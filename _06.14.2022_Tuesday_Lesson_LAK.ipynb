{
 "cells": [
  {
   "cell_type": "markdown",
   "metadata": {},
   "source": [
    "# Data Collections 2 (Dictionaries, Sets) and Importing Modules"
   ]
  },
  {
   "cell_type": "markdown",
   "metadata": {},
   "source": [
    "## Tasks Today:\n",
    "\n",
    "1) Dictionary <br>\n",
    " &nbsp;&nbsp;&nbsp;&nbsp; a) Declaring (key, value) <br>\n",
    " &nbsp;&nbsp;&nbsp;&nbsp; b) Accessing Values <br>\n",
    " &nbsp;&nbsp;&nbsp;&nbsp; ------ Exercise #1 - Print the eye color of each person in a double nested dict <br>\n",
    " &nbsp;&nbsp;&nbsp;&nbsp; c) Adding New Pairs <br>\n",
    " &nbsp;&nbsp;&nbsp;&nbsp; d) Modifying Values <br>\n",
    " &nbsp;&nbsp;&nbsp;&nbsp; e) Removing Key, Value Pairs <br>\n",
    " &nbsp;&nbsp;&nbsp;&nbsp; f) Looping a Dictionary <br>\n",
    " &nbsp;&nbsp;&nbsp;&nbsp; g) Looping Only Keys <br>\n",
    " &nbsp;&nbsp;&nbsp;&nbsp; h) Looping Only Values <br>\n",
    " &nbsp;&nbsp;&nbsp;&nbsp; ------ Exercise #2 - Create a Function that Prints All Key Value Pairs within a print .format()  <br>\n",
    " &nbsp;&nbsp;&nbsp;&nbsp; i) sorted() <br>\n",
    " &nbsp;&nbsp;&nbsp;&nbsp; j) Lists with Dictionaries <br>\n",
    " &nbsp;&nbsp;&nbsp;&nbsp; k) Dictionaries with Lists <br>\n",
    " &nbsp;&nbsp;&nbsp;&nbsp; l) Dictionaries with Dictionaries <br>\n",
    " &nbsp;&nbsp;&nbsp;&nbsp; ------ Exercise #3 - Write a Function that asks someone's name and address, and then stores that into a dictionary, which prints all names and addresses after they're done putting information in...  <br>\n",
    "2) Set <br>\n",
    " &nbsp;&nbsp;&nbsp;&nbsp; a) Declaring <br>\n",
    " &nbsp;&nbsp;&nbsp;&nbsp; b) .add() <br>\n",
    " &nbsp;&nbsp;&nbsp;&nbsp; c) .union() <br>\n",
    " &nbsp;&nbsp;&nbsp;&nbsp; d) .intersection() <br>\n",
    " &nbsp;&nbsp;&nbsp;&nbsp; e) .difference() <br>\n",
    " &nbsp;&nbsp;&nbsp;&nbsp; f) Frozen Set <br>\n",
    "3) Modules <br>\n",
    " &nbsp;&nbsp;&nbsp;&nbsp; a) Importing Entire Modules <br>\n",
    " &nbsp;&nbsp;&nbsp;&nbsp; b) Importing Methods Only <br>\n",
    " &nbsp;&nbsp;&nbsp;&nbsp; c) Using the 'as' Keyword <br>\n",
    " &nbsp;&nbsp;&nbsp;&nbsp; d) Creating a Module <br>\n",
    "4) Exercises <br>\n",
    " &nbsp;&nbsp;&nbsp;&nbsp; a) Build a Shopping Cart <br>\n",
    " &nbsp;&nbsp;&nbsp;&nbsp; b) Create Your Own Module <br>"
   ]
  },
  {
   "cell_type": "markdown",
   "metadata": {},
   "source": [
    "## Dictionary <br>\n",
    "<p>A collection of data with 'key:value' pairs</p>"
   ]
  },
  {
   "cell_type": "markdown",
   "metadata": {},
   "source": [
    "##### Declaring (key, value)"
   ]
  },
  {
   "cell_type": "code",
   "execution_count": 8,
   "metadata": {},
   "outputs": [],
   "source": [
    "dict_1 = {\n",
    "    'first_name': 'marge',\n",
    "      'last_name': 'simpson' }\n"
   ]
  },
  {
   "cell_type": "markdown",
   "metadata": {},
   "source": [
    "##### Accessing Values"
   ]
  },
  {
   "cell_type": "code",
   "execution_count": 9,
   "metadata": {},
   "outputs": [
    {
     "data": {
      "text/plain": [
       "'marge'"
      ]
     },
     "execution_count": 9,
     "metadata": {},
     "output_type": "execute_result"
    }
   ],
   "source": [
    "dict_1[\"first_name\"]"
   ]
  },
  {
   "cell_type": "markdown",
   "metadata": {},
   "source": [
    "## Exercise #1 - Print the eye color of each person in a double nested dict"
   ]
  },
  {
   "cell_type": "code",
   "execution_count": 11,
   "metadata": {},
   "outputs": [],
   "source": [
    "person ={ \n",
    "    'first_name': \"Sliartibartfast\" , \n",
    "    'last_name': \"Notimportant\", \n",
    "    'inventory': { \n",
    "        'items':   { \n",
    "            'mana': 5,\n",
    "            'health': 5, \n",
    "            'weapons': ['portal', 'cloak', 'towel']\n",
    "                    }\n",
    "              }\n",
    "        }"
   ]
  },
  {
   "cell_type": "code",
   "execution_count": 13,
   "metadata": {},
   "outputs": [
    {
     "name": "stdout",
     "output_type": "stream",
     "text": [
      "portal\n",
      "cloak\n",
      "towel\n"
     ]
    }
   ],
   "source": [
    "for item in person['inventory'][\"items\"][\"weapons\"]:\n",
    "    print(item)"
   ]
  },
  {
   "cell_type": "markdown",
   "metadata": {},
   "source": [
    "##### Adding New Pairs"
   ]
  },
  {
   "cell_type": "code",
   "execution_count": 15,
   "metadata": {},
   "outputs": [],
   "source": [
    "person[\"inventory\"][\"items\"][\"apperel\"] = ['gloves', 'boots', 'hood','rings', 'sheild']"
   ]
  },
  {
   "cell_type": "code",
   "execution_count": 19,
   "metadata": {},
   "outputs": [
    {
     "data": {
      "text/plain": [
       "{'first_name': 'Sliartibartfast',\n",
       " 'last_name': 'Notimportant',\n",
       " 'inventory': {'items': {'mana': 5,\n",
       "   'health': 5,\n",
       "   'weapons': ['portal', 'cloak', 'towel'],\n",
       "   'apperel': ['gloves', 'boots', 'hood', 'rings', 'sheild']}}}"
      ]
     },
     "execution_count": 19,
     "metadata": {},
     "output_type": "execute_result"
    }
   ],
   "source": [
    "person"
   ]
  },
  {
   "cell_type": "code",
   "execution_count": 18,
   "metadata": {},
   "outputs": [
    {
     "data": {
      "text/plain": [
       "['gloves', 'boots', 'hood', 'rings', 'sheild']"
      ]
     },
     "execution_count": 18,
     "metadata": {},
     "output_type": "execute_result"
    }
   ],
   "source": [
    "person[\"inventory\"][\"items\"][\"apperel\"]"
   ]
  },
  {
   "cell_type": "markdown",
   "metadata": {},
   "source": [
    "##### Modifying Values"
   ]
  },
  {
   "cell_type": "code",
   "execution_count": null,
   "metadata": {},
   "outputs": [],
   "source": []
  },
  {
   "cell_type": "markdown",
   "metadata": {},
   "source": [
    "##### Removing Key, Value Pairs"
   ]
  },
  {
   "cell_type": "code",
   "execution_count": 21,
   "metadata": {},
   "outputs": [],
   "source": [
    "del person[\"inventory\"][\"items\"][\"mana\"]"
   ]
  },
  {
   "cell_type": "code",
   "execution_count": 22,
   "metadata": {},
   "outputs": [
    {
     "data": {
      "text/plain": [
       "{'first_name': 'Sliartibartfast',\n",
       " 'last_name': 'Notimportant',\n",
       " 'inventory': {'items': {'health': 5,\n",
       "   'weapons': ['portal', 'cloak', 'towel'],\n",
       "   'apperel': ['gloves', 'boots', 'hood', 'rings', 'sheild']}}}"
      ]
     },
     "execution_count": 22,
     "metadata": {},
     "output_type": "execute_result"
    }
   ],
   "source": [
    "person"
   ]
  },
  {
   "cell_type": "markdown",
   "metadata": {},
   "source": [
    "##### Looping a Dictionary"
   ]
  },
  {
   "cell_type": "code",
   "execution_count": 25,
   "metadata": {},
   "outputs": [
    {
     "name": "stdout",
     "output_type": "stream",
     "text": [
      "first_name\n",
      "last_name\n",
      "inventory\n"
     ]
    }
   ],
   "source": [
    "#by default it loops over the keys \n",
    "for i in person: \n",
    "    print(i)"
   ]
  },
  {
   "cell_type": "code",
   "execution_count": 30,
   "metadata": {},
   "outputs": [
    {
     "name": "stdout",
     "output_type": "stream",
     "text": [
      "Sliartibartfast\n",
      "Notimportant\n",
      "{'items': {'health': 5, 'weapons': ['portal', 'cloak', 'towel'], 'apperel': ['gloves', 'boots', 'hood', 'rings', 'sheild']}}\n"
     ]
    }
   ],
   "source": [
    "#to get more specific to find the values, add in the brackets to reference: \n",
    "for i in person: \n",
    "    print(person[i])"
   ]
  },
  {
   "cell_type": "markdown",
   "metadata": {},
   "source": [
    "##### Looping Only Keys"
   ]
  },
  {
   "cell_type": "code",
   "execution_count": 32,
   "metadata": {},
   "outputs": [
    {
     "data": {
      "text/plain": [
       "dict_keys(['first_name', 'last_name', 'inventory'])"
      ]
     },
     "execution_count": 32,
     "metadata": {},
     "output_type": "execute_result"
    }
   ],
   "source": [
    "person.keys()"
   ]
  },
  {
   "cell_type": "markdown",
   "metadata": {},
   "source": [
    "##### Looping Only Values"
   ]
  },
  {
   "cell_type": "code",
   "execution_count": 31,
   "metadata": {},
   "outputs": [
    {
     "data": {
      "text/plain": [
       "dict_values(['Sliartibartfast', 'Notimportant', {'items': {'health': 5, 'weapons': ['portal', 'cloak', 'towel'], 'apperel': ['gloves', 'boots', 'hood', 'rings', 'sheild']}}])"
      ]
     },
     "execution_count": 31,
     "metadata": {},
     "output_type": "execute_result"
    }
   ],
   "source": [
    "person.values()"
   ]
  },
  {
   "cell_type": "markdown",
   "metadata": {},
   "source": [
    "#### Exercise #1 - Create a Function that Prints All Key Value Pairs within a print statement .format()|f\"{}\""
   ]
  },
  {
   "cell_type": "code",
   "execution_count": null,
   "metadata": {},
   "outputs": [],
   "source": [
    "#done"
   ]
  },
  {
   "cell_type": "markdown",
   "metadata": {},
   "source": [
    "##### sorted()"
   ]
  },
  {
   "cell_type": "code",
   "execution_count": 33,
   "metadata": {},
   "outputs": [
    {
     "data": {
      "text/plain": [
       "['first_name', 'inventory', 'last_name']"
      ]
     },
     "execution_count": 33,
     "metadata": {},
     "output_type": "execute_result"
    }
   ],
   "source": [
    "sorted(person)"
   ]
  },
  {
   "cell_type": "markdown",
   "metadata": {},
   "source": [
    "##### List with Dictionaries"
   ]
  },
  {
   "cell_type": "code",
   "execution_count": 41,
   "metadata": {},
   "outputs": [],
   "source": [
    "#This gets into normalizing your data. \n",
    "list_o_dicts = [ \n",
    "    {\n",
    "        'first':'Ashley', \n",
    "        'last': 'Spinelli', \n",
    "        'email':'onlyspinelli@gmail.com'\n",
    "                    },\n",
    "    {\n",
    "        'first':'Angelica', \n",
    "        'last': 'Pickles', \n",
    "        'email': 'apickle@gmail.com'\n",
    "                    }\n",
    "                ]\n",
    "\n"
   ]
  },
  {
   "cell_type": "markdown",
   "metadata": {},
   "source": [
    "##### Dictionaries with Dictionaries"
   ]
  },
  {
   "cell_type": "code",
   "execution_count": 67,
   "metadata": {},
   "outputs": [],
   "source": [
    "# done"
   ]
  },
  {
   "cell_type": "markdown",
   "metadata": {},
   "source": [
    "##### Dictionaries with Lists"
   ]
  },
  {
   "cell_type": "code",
   "execution_count": 68,
   "metadata": {},
   "outputs": [],
   "source": [
    "# done"
   ]
  },
  {
   "cell_type": "markdown",
   "metadata": {},
   "source": [
    "## Exercise #3 - Write a Function that asks someone's name and address, and then stores that into a dictionary, which prints all names and addresses after they're done putting information in..."
   ]
  },
  {
   "cell_type": "code",
   "execution_count": null,
   "metadata": {},
   "outputs": [],
   "source": [
    "**kwargs *args \n"
   ]
  },
  {
   "cell_type": "code",
   "execution_count": 44,
   "metadata": {},
   "outputs": [
    {
     "name": "stdout",
     "output_type": "stream",
     "text": [
      "Would you like to add a new contact Y/N? y\n",
      "What's the first and last nameSarah Bellum\n",
      "What is the email? sbellum@cityhall.gov\n",
      "Where are they located?Townsville\n",
      "Would you like to add a new contact Y/N? y\n",
      "What's the first and last nameProfessor Utonium\n",
      "What is the email? utoniumguy@gmail.com\n",
      "Where are they located?Townsville\n",
      "Would you like to add a new contact Y/N? n\n",
      "[{'name': 'Sarah Bellum', 'email': 'sbellum@cityhall.gov', 'location': 'Townsville'}, {'name': 'Professor Utonium', 'email': 'utoniumguy@gmail.com', 'location': 'Townsville'}]\n"
     ]
    }
   ],
   "source": [
    "def blackbook (): \n",
    "    contact_list = []\n",
    "    \n",
    "    done = False \n",
    "    while not done: \n",
    "        decision = input(\"Would you like to add a new contact Y/N? \").lower()\n",
    "        \n",
    "        if decision == \"n\": \n",
    "            done = True\n",
    "        elif decision == \"y\": \n",
    "            name = input(\"What's the first and last name\")\n",
    "            email = input(\"What is the email? \")\n",
    "            location= input(\"Where are they located?\")\n",
    "            \n",
    "            person_dict= { \n",
    "                'name': name,\n",
    "                'email': email,\n",
    "                'location': location\n",
    "            }\n",
    "            contact_list.append(person_dict)\n",
    "    print(contact_list)\n",
    "    \n",
    "blackbook()\n",
    "            "
   ]
  },
  {
   "cell_type": "markdown",
   "metadata": {},
   "source": [
    "## Set <br>\n",
    "<p>A Set is an unordered collection data type that is iterable, mutable, and has no duplicate elements.<br>Major advantage is that it is highly optimized in checking if something is in the set, as opposed to checking if something is in a list.</p>"
   ]
  },
  {
   "cell_type": "markdown",
   "metadata": {},
   "source": [
    "##### Declaring"
   ]
  },
  {
   "cell_type": "code",
   "execution_count": 45,
   "metadata": {},
   "outputs": [
    {
     "data": {
      "text/plain": [
       "{1, 2, 3, 4, 5, 6, 9, 10}"
      ]
     },
     "execution_count": 45,
     "metadata": {},
     "output_type": "execute_result"
    }
   ],
   "source": [
    "set1 = {1, 2, 3, 4, 5, 6, 6, 9, 10, 10}\n",
    "set1"
   ]
  },
  {
   "cell_type": "code",
   "execution_count": 47,
   "metadata": {},
   "outputs": [
    {
     "data": {
      "text/plain": [
       "{6, 7, 8, 9}"
      ]
     },
     "execution_count": 47,
     "metadata": {},
     "output_type": "execute_result"
    }
   ],
   "source": [
    "set2 = set([7, 8, 9 , 7, 8, 9, 6])\n",
    "set2"
   ]
  },
  {
   "cell_type": "code",
   "execution_count": 49,
   "metadata": {},
   "outputs": [],
   "source": [
    "#declaring an empty set because if you use braces it creates a dictionary\n",
    "set3 = set()"
   ]
  },
  {
   "cell_type": "markdown",
   "metadata": {},
   "source": [
    "##### .add()"
   ]
  },
  {
   "cell_type": "code",
   "execution_count": 50,
   "metadata": {},
   "outputs": [
    {
     "data": {
      "text/plain": [
       "{7}"
      ]
     },
     "execution_count": 50,
     "metadata": {},
     "output_type": "execute_result"
    }
   ],
   "source": [
    "set3.add(7)\n",
    "set3"
   ]
  },
  {
   "cell_type": "markdown",
   "metadata": {},
   "source": [
    "##### .union()"
   ]
  },
  {
   "cell_type": "code",
   "execution_count": 52,
   "metadata": {},
   "outputs": [
    {
     "data": {
      "text/plain": [
       "{1, 2, 3, 4, 5, 6, 7, 9, 10}"
      ]
     },
     "execution_count": 52,
     "metadata": {},
     "output_type": "execute_result"
    }
   ],
   "source": [
    "set1.union(set3)"
   ]
  },
  {
   "cell_type": "code",
   "execution_count": 53,
   "metadata": {},
   "outputs": [
    {
     "data": {
      "text/plain": [
       "{1, 2, 3, 4, 5, 6, 7, 9, 10}"
      ]
     },
     "execution_count": 53,
     "metadata": {},
     "output_type": "execute_result"
    }
   ],
   "source": [
    "set1 | set3"
   ]
  },
  {
   "cell_type": "markdown",
   "metadata": {},
   "source": [
    "##### .intersection()"
   ]
  },
  {
   "cell_type": "code",
   "execution_count": null,
   "metadata": {},
   "outputs": [],
   "source": [
    "#looks for items that are common between two sets. "
   ]
  },
  {
   "cell_type": "markdown",
   "metadata": {},
   "source": [
    "##### .difference()"
   ]
  },
  {
   "cell_type": "code",
   "execution_count": 57,
   "metadata": {},
   "outputs": [],
   "source": [
    "#what is in the first set but not in the second set? "
   ]
  },
  {
   "cell_type": "markdown",
   "metadata": {},
   "source": [
    "##### .symmetric_difference()"
   ]
  },
  {
   "cell_type": "code",
   "execution_count": null,
   "metadata": {},
   "outputs": [],
   "source": [
    "#returns differences between both sets"
   ]
  },
  {
   "cell_type": "markdown",
   "metadata": {},
   "source": [
    "##### .clear()"
   ]
  },
  {
   "cell_type": "code",
   "execution_count": null,
   "metadata": {},
   "outputs": [],
   "source": []
  },
  {
   "cell_type": "markdown",
   "metadata": {},
   "source": [
    "##### Frozenset <br>\n",
    "<p>Frozen sets are immutable objects that only support methods and operators that produce a result without affecting the frozen set or sets to which they are applied.</p><br><b>Unique & Immutable</b>"
   ]
  },
  {
   "cell_type": "code",
   "execution_count": null,
   "metadata": {},
   "outputs": [],
   "source": []
  },
  {
   "cell_type": "markdown",
   "metadata": {},
   "source": [
    "## Modules"
   ]
  },
  {
   "cell_type": "markdown",
   "metadata": {},
   "source": [
    "##### Importing Methods Only"
   ]
  },
  {
   "cell_type": "code",
   "execution_count": 59,
   "metadata": {},
   "outputs": [],
   "source": [
    "from IPython.display import clear_output\n",
    "\n",
    "#This is an example of a module."
   ]
  },
  {
   "cell_type": "code",
   "execution_count": 63,
   "metadata": {},
   "outputs": [
    {
     "data": {
      "text/plain": [
       "86.66666666666667"
      ]
     },
     "execution_count": 63,
     "metadata": {},
     "output_type": "execute_result"
    }
   ],
   "source": [
    "\n",
    "my_list = [89, 75, 99, 100, 69, 88]\n",
    "sum_= 0 \n",
    "for num in my_list: \n",
    "    sum_ += num\n",
    "sum_/len(my_list)"
   ]
  },
  {
   "cell_type": "code",
   "execution_count": 64,
   "metadata": {},
   "outputs": [
    {
     "data": {
      "text/plain": [
       "86.66666666666667"
      ]
     },
     "execution_count": 64,
     "metadata": {},
     "output_type": "execute_result"
    }
   ],
   "source": [
    "from statistics import mean \n",
    "\n",
    "mean(my_list)"
   ]
  },
  {
   "cell_type": "markdown",
   "metadata": {},
   "source": [
    "##### Importing Entire Modules/Library"
   ]
  },
  {
   "cell_type": "code",
   "execution_count": 68,
   "metadata": {},
   "outputs": [
    {
     "name": "stdout",
     "output_type": "stream",
     "text": [
      "[88, 69, 100, 99, 75, 89]\n"
     ]
    }
   ],
   "source": [
    "import random \n",
    "\n",
    "random.shuffle(my_list) \n",
    "print(my_list)"
   ]
  },
  {
   "cell_type": "markdown",
   "metadata": {},
   "source": [
    "##### Using the 'as' Keyword"
   ]
  },
  {
   "cell_type": "code",
   "execution_count": 69,
   "metadata": {},
   "outputs": [],
   "source": [
    "#aliasing the imports to rename the functions. "
   ]
  },
  {
   "cell_type": "markdown",
   "metadata": {},
   "source": [
    "##### Creating a Module"
   ]
  },
  {
   "cell_type": "code",
   "execution_count": 70,
   "metadata": {},
   "outputs": [],
   "source": [
    "# %run ./name_of_module (in jupyter)\n",
    "#in vscode you can import other docs \n",
    "#the \"proper way\" is to use __init.py__ within another directory"
   ]
  },
  {
   "cell_type": "markdown",
   "metadata": {},
   "source": [
    "# Exercises"
   ]
  },
  {
   "cell_type": "markdown",
   "metadata": {},
   "source": [
    "### 1) Build a Shopping Cart <br>\n",
    "<p><b>Should have the following capabilities:</b><br><br>\n",
    "1) Takes in input <br>\n",
    "2) Stores user input into a list <br>\n",
    "3) User can add or delete items <br>\n",
    "4) User can see current shopping list <br>\n",
    "5) Loops until user 'quits' <br>\n",
    "6) Upon quiting the program, print out all items in the user's list <br>\n",
    "</p>"
   ]
  },
  {
   "cell_type": "markdown",
   "metadata": {},
   "source": [
    "Derek's Hints: \n",
    "\n",
    "Objects <ul> \n",
    "    <li>the cart</li> \n",
    "    <li>items - probably strings </li> \n",
    "    </ul>\n",
    "    \n",
    "Actions <ul> \n",
    "    <li> adding, removing items </li> \n",
    "    <li> viewing all the items </li>\n",
    "    <li> showing the instructions  </li>\n",
    "    <li> opportunities to choose their own adventure </li> \n",
    "    \n",
    "    \n",
    "Probably will use: \n",
    "    for loop, while loop, input functions, conditional statements \n",
    "   "
   ]
  },
  {
   "cell_type": "code",
   "execution_count": null,
   "metadata": {},
   "outputs": [],
   "source": [
    "\n",
    "\n",
    "def greeting(): \n",
    "    print(\"----------------------------------------\")\n",
    "    print(\"--------------Shopping List-------------\")\n",
    "    print(\"----------------------------------------\")\n",
    "\n",
    "def instructions():\n",
    "    print(\"Instructions:\")\n",
    "    print(\" - Use [q] at anytime to quit and print your list\")\n",
    "    print(\" - Use [a] to add items\")\n",
    "    print(\" - Use [r] to remove items\")\n",
    "    print(\" - Use [v] to view your list progress\")\n",
    "    print(\" - Use [i] to see these instructions again\")\n",
    "\n",
    "\n",
    "your_list = [] \n",
    "\n",
    "def shopping_add(): \n",
    "    while True:\n",
    "        items = input(\"What item would you like to add? (Use [b] to go back) \").strip()\n",
    "        if items == \"b\":\n",
    "            break\n",
    "        else:\n",
    "            your_list.append(items)\n",
    "\n",
    "def shopping_remove(): \n",
    "    while True: \n",
    "        items = input(\"Which items would you like to remove? (Use [b] to go back) \").strip()\n",
    "        if items == \"b\": \n",
    "            break\n",
    "        else: \n",
    "            try: \n",
    "                your_list.remove(items)\n",
    "            except ValueError: \n",
    "                print(\"That's not on your list, silly. \") \n",
    "                \n",
    "\n",
    "def shopping_view_list(): \n",
    "    for items in your_list:\n",
    "        print(f\"-{items}\")\n",
    "    \n",
    "\n",
    "def shopping_main():\n",
    "    greeting()\n",
    "    instructions()\n",
    "    while True:\n",
    "        cue = input(\"What would you like to do? \").lower().strip() \n",
    "        if cue == \"q\" and not your_list:\n",
    "            print(\"See ya!\") \n",
    "            break\n",
    "        elif cue == \"q\" and your_list:\n",
    "            print(\"\\nHere's your list!\\n\")\n",
    "            for items in your_list:\n",
    "                print(f\"-{items}\")\n",
    "            print(\"\\nSee ya!\")\n",
    "            break    \n",
    "        elif cue == \"a\": \n",
    "            shopping_add()\n",
    "        elif cue == \"r\": \n",
    "            shopping_remove()\n",
    "        elif cue == \"v\": \n",
    "            shopping_view_list()\n",
    "        elif cue ==\"i\": \n",
    "            instructions()\n",
    "        else: \n",
    "            print(\"I didn't get that command. Press [i] to repeat instructions. \")\n",
    "\n",
    "shopping_main()\n"
   ]
  },
  {
   "cell_type": "markdown",
   "metadata": {},
   "source": [
    "\n",
    "### 2) Create a Module in Visual Studio Code and Import It <br>\n",
    "<p><b>Module should have the following capabilities:</b><br><br>\n",
    "1) Has a function to calculate the square footage of a room <br>\n",
    "2) Has a function to calculate the circumference of a circle <br><br>\n",
    "<b>Program in Jupyter Notebook should take in user input and use imported functions to calculate a circle's circumference or a houses square footage</b>\n",
    "</p>"
   ]
  },
  {
   "cell_type": "markdown",
   "metadata": {},
   "source": [
    "##### **Note: When using functions in Python, arguments are passed in by reference, NOT value."
   ]
  },
  {
   "cell_type": "code",
   "execution_count": 6,
   "metadata": {},
   "outputs": [
    {
     "name": "stdout",
     "output_type": "stream",
     "text": [
      "What is the radius of your circle? 9\n",
      "The circumfrence of your circle is 56.52.\n"
     ]
    }
   ],
   "source": [
    "%run ./calculations.ipynb\n",
    "\n",
    "def get_circ(): \n",
    "    radius = input(\"What is the radius of your circle? \")\n",
    "    return cir_circle(radius)\n",
    "\n",
    "get_circ()"
   ]
  },
  {
   "cell_type": "code",
   "execution_count": 9,
   "metadata": {},
   "outputs": [
    {
     "name": "stdout",
     "output_type": "stream",
     "text": [
      "Is your room a rectangle, circle, or triangle? triangle\n",
      "What is the length of the base in feet? 8\n",
      "What is the length of the height in feet? 9\n",
      "Your square footage of your triangular room is 36.0 sqft.\n"
     ]
    }
   ],
   "source": [
    "%run ./calculations.ipynb \n",
    "\n",
    "def get_sqft(): \n",
    "    shape = input(\"Is your room a rectangle, circle, or triangle? \")\n",
    "    return sqft(shape)\n",
    "\n",
    "get_sqft()"
   ]
  },
  {
   "cell_type": "code",
   "execution_count": null,
   "metadata": {},
   "outputs": [],
   "source": []
  }
 ],
 "metadata": {
  "kernelspec": {
   "display_name": "Python 3 (ipykernel)",
   "language": "python",
   "name": "python3"
  },
  "language_info": {
   "codemirror_mode": {
    "name": "ipython",
    "version": 3
   },
   "file_extension": ".py",
   "mimetype": "text/x-python",
   "name": "python",
   "nbconvert_exporter": "python",
   "pygments_lexer": "ipython3",
   "version": "3.9.7"
  },
  "vscode": {
   "interpreter": {
    "hash": "aee8b7b246df8f9039afb4144a1f6fd8d2ca17a180786b69acc140d282b71a49"
   }
  }
 },
 "nbformat": 4,
 "nbformat_minor": 2
}
