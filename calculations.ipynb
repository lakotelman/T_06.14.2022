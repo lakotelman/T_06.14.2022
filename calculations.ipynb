{
 "cells": [
  {
   "cell_type": "code",
   "execution_count": 2,
   "id": "a9d10e89",
   "metadata": {
    "scrolled": true
   },
   "outputs": [],
   "source": [
    "def sqft(string):\n",
    "    if string == \"triangle\":\n",
    "        side1 = input(\"What is the length of the base in feet? \" )\n",
    "        side2 = input(\"What is the length of the height in feet? \" )\n",
    "        print(f\"Your square footage of your triangular room is {(float(side1))*(float(side2))/2} sqft.\") \n",
    "    elif string == \"rectangle\":\n",
    "        side1 = input(\"What is the length of the base? \" )\n",
    "        side2 = input(\"What is the length of the height? \" )\n",
    "        print(f\"Your square footage your rectangular room is {(float(side1))*(float(side2))} sqft.\")\n",
    "    elif string == \"circle\":\n",
    "        radius = input(\"What is the radius in feet? \" )\n",
    "        print(f\"Your square footage or your circular room is {((float(radius))**2)*3.14} sqft.\")\n",
    "            "
   ]
  },
  {
   "cell_type": "code",
   "execution_count": 3,
   "id": "f62eef9d",
   "metadata": {},
   "outputs": [],
   "source": [
    "def cir_circle(r): \n",
    "    pi= 3.14 \n",
    "    print(f\"The circumfrence of your circle is {2.0 * pi * float(r)}.\")"
   ]
  },
  {
   "cell_type": "code",
   "execution_count": null,
   "id": "91e262c3",
   "metadata": {},
   "outputs": [],
   "source": []
  },
  {
   "cell_type": "code",
   "execution_count": null,
   "id": "72b49f32",
   "metadata": {},
   "outputs": [],
   "source": []
  }
 ],
 "metadata": {
  "kernelspec": {
   "display_name": "Python 3 (ipykernel)",
   "language": "python",
   "name": "python3"
  },
  "language_info": {
   "codemirror_mode": {
    "name": "ipython",
    "version": 3
   },
   "file_extension": ".py",
   "mimetype": "text/x-python",
   "name": "python",
   "nbconvert_exporter": "python",
   "pygments_lexer": "ipython3",
   "version": "3.9.12"
  }
 },
 "nbformat": 4,
 "nbformat_minor": 5
}
